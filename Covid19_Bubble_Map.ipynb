{
  "nbformat": 4,
  "nbformat_minor": 0,
  "metadata": {
    "colab": {
      "name": "Covid19-Bubble_Map.ipynb",
      "provenance": [],
      "collapsed_sections": [],
      "authorship_tag": "ABX9TyMYljRn0fg0NDCtMZeymUEY",
      "include_colab_link": true
    },
    "kernelspec": {
      "name": "python3",
      "display_name": "Python 3"
    },
    "language_info": {
      "name": "python"
    }
  },
  "cells": [
    {
      "cell_type": "markdown",
      "metadata": {
        "id": "view-in-github",
        "colab_type": "text"
      },
      "source": [
        "<a href=\"https://colab.research.google.com/github/harikrishna10889/My-HackerRank-Codes/blob/master/Covid19_Bubble_Map.ipynb\" target=\"_parent\"><img src=\"https://colab.research.google.com/assets/colab-badge.svg\" alt=\"Open In Colab\"/></a>"
      ]
    },
    {
      "cell_type": "code",
      "metadata": {
        "id": "u36oRRjTN3mZ"
      },
      "source": [
        "import pandas as pd\n",
        "\n",
        "df=pd.read_csv('https://opendata.ecdc.europa.eu/covid19/casedistribution/csv')"
      ],
      "execution_count": null,
      "outputs": []
    },
    {
      "cell_type": "code",
      "metadata": {
        "colab": {
          "base_uri": "https://localhost:8080/",
          "height": 396
        },
        "id": "-jKsYIzKdvir",
        "outputId": "e63dac5e-6c0a-4bef-84f2-dbeda2dd3a87"
      },
      "source": [
        "df.head(10)"
      ],
      "execution_count": null,
      "outputs": [
        {
          "output_type": "execute_result",
          "data": {
            "text/html": [
              "<div>\n",
              "<style scoped>\n",
              "    .dataframe tbody tr th:only-of-type {\n",
              "        vertical-align: middle;\n",
              "    }\n",
              "\n",
              "    .dataframe tbody tr th {\n",
              "        vertical-align: top;\n",
              "    }\n",
              "\n",
              "    .dataframe thead th {\n",
              "        text-align: right;\n",
              "    }\n",
              "</style>\n",
              "<table border=\"1\" class=\"dataframe\">\n",
              "  <thead>\n",
              "    <tr style=\"text-align: right;\">\n",
              "      <th></th>\n",
              "      <th>dateRep</th>\n",
              "      <th>day</th>\n",
              "      <th>month</th>\n",
              "      <th>year</th>\n",
              "      <th>cases</th>\n",
              "      <th>deaths</th>\n",
              "      <th>countriesAndTerritories</th>\n",
              "      <th>geoId</th>\n",
              "      <th>countryterritoryCode</th>\n",
              "      <th>popData2019</th>\n",
              "      <th>continentExp</th>\n",
              "      <th>Cumulative_number_for_14_days_of_COVID-19_cases_per_100000</th>\n",
              "    </tr>\n",
              "  </thead>\n",
              "  <tbody>\n",
              "    <tr>\n",
              "      <th>0</th>\n",
              "      <td>14/12/2020</td>\n",
              "      <td>14</td>\n",
              "      <td>12</td>\n",
              "      <td>2020</td>\n",
              "      <td>746</td>\n",
              "      <td>6</td>\n",
              "      <td>Afghanistan</td>\n",
              "      <td>AF</td>\n",
              "      <td>AFG</td>\n",
              "      <td>38041757.0</td>\n",
              "      <td>Asia</td>\n",
              "      <td>9.013779</td>\n",
              "    </tr>\n",
              "    <tr>\n",
              "      <th>1</th>\n",
              "      <td>13/12/2020</td>\n",
              "      <td>13</td>\n",
              "      <td>12</td>\n",
              "      <td>2020</td>\n",
              "      <td>298</td>\n",
              "      <td>9</td>\n",
              "      <td>Afghanistan</td>\n",
              "      <td>AF</td>\n",
              "      <td>AFG</td>\n",
              "      <td>38041757.0</td>\n",
              "      <td>Asia</td>\n",
              "      <td>7.052776</td>\n",
              "    </tr>\n",
              "    <tr>\n",
              "      <th>2</th>\n",
              "      <td>12/12/2020</td>\n",
              "      <td>12</td>\n",
              "      <td>12</td>\n",
              "      <td>2020</td>\n",
              "      <td>113</td>\n",
              "      <td>11</td>\n",
              "      <td>Afghanistan</td>\n",
              "      <td>AF</td>\n",
              "      <td>AFG</td>\n",
              "      <td>38041757.0</td>\n",
              "      <td>Asia</td>\n",
              "      <td>6.868768</td>\n",
              "    </tr>\n",
              "    <tr>\n",
              "      <th>3</th>\n",
              "      <td>11/12/2020</td>\n",
              "      <td>11</td>\n",
              "      <td>12</td>\n",
              "      <td>2020</td>\n",
              "      <td>63</td>\n",
              "      <td>10</td>\n",
              "      <td>Afghanistan</td>\n",
              "      <td>AF</td>\n",
              "      <td>AFG</td>\n",
              "      <td>38041757.0</td>\n",
              "      <td>Asia</td>\n",
              "      <td>7.134266</td>\n",
              "    </tr>\n",
              "    <tr>\n",
              "      <th>4</th>\n",
              "      <td>10/12/2020</td>\n",
              "      <td>10</td>\n",
              "      <td>12</td>\n",
              "      <td>2020</td>\n",
              "      <td>202</td>\n",
              "      <td>16</td>\n",
              "      <td>Afghanistan</td>\n",
              "      <td>AF</td>\n",
              "      <td>AFG</td>\n",
              "      <td>38041757.0</td>\n",
              "      <td>Asia</td>\n",
              "      <td>6.968658</td>\n",
              "    </tr>\n",
              "    <tr>\n",
              "      <th>5</th>\n",
              "      <td>09/12/2020</td>\n",
              "      <td>9</td>\n",
              "      <td>12</td>\n",
              "      <td>2020</td>\n",
              "      <td>135</td>\n",
              "      <td>13</td>\n",
              "      <td>Afghanistan</td>\n",
              "      <td>AF</td>\n",
              "      <td>AFG</td>\n",
              "      <td>38041757.0</td>\n",
              "      <td>Asia</td>\n",
              "      <td>6.963401</td>\n",
              "    </tr>\n",
              "    <tr>\n",
              "      <th>6</th>\n",
              "      <td>08/12/2020</td>\n",
              "      <td>8</td>\n",
              "      <td>12</td>\n",
              "      <td>2020</td>\n",
              "      <td>200</td>\n",
              "      <td>6</td>\n",
              "      <td>Afghanistan</td>\n",
              "      <td>AF</td>\n",
              "      <td>AFG</td>\n",
              "      <td>38041757.0</td>\n",
              "      <td>Asia</td>\n",
              "      <td>7.094835</td>\n",
              "    </tr>\n",
              "    <tr>\n",
              "      <th>7</th>\n",
              "      <td>07/12/2020</td>\n",
              "      <td>7</td>\n",
              "      <td>12</td>\n",
              "      <td>2020</td>\n",
              "      <td>210</td>\n",
              "      <td>26</td>\n",
              "      <td>Afghanistan</td>\n",
              "      <td>AF</td>\n",
              "      <td>AFG</td>\n",
              "      <td>38041757.0</td>\n",
              "      <td>Asia</td>\n",
              "      <td>7.215755</td>\n",
              "    </tr>\n",
              "    <tr>\n",
              "      <th>8</th>\n",
              "      <td>06/12/2020</td>\n",
              "      <td>6</td>\n",
              "      <td>12</td>\n",
              "      <td>2020</td>\n",
              "      <td>234</td>\n",
              "      <td>10</td>\n",
              "      <td>Afghanistan</td>\n",
              "      <td>AF</td>\n",
              "      <td>AFG</td>\n",
              "      <td>38041757.0</td>\n",
              "      <td>Asia</td>\n",
              "      <td>7.326160</td>\n",
              "    </tr>\n",
              "    <tr>\n",
              "      <th>9</th>\n",
              "      <td>05/12/2020</td>\n",
              "      <td>5</td>\n",
              "      <td>12</td>\n",
              "      <td>2020</td>\n",
              "      <td>235</td>\n",
              "      <td>18</td>\n",
              "      <td>Afghanistan</td>\n",
              "      <td>AF</td>\n",
              "      <td>AFG</td>\n",
              "      <td>38041757.0</td>\n",
              "      <td>Asia</td>\n",
              "      <td>7.115865</td>\n",
              "    </tr>\n",
              "  </tbody>\n",
              "</table>\n",
              "</div>"
            ],
            "text/plain": [
              "      dateRep  ...  Cumulative_number_for_14_days_of_COVID-19_cases_per_100000\n",
              "0  14/12/2020  ...                                           9.013779         \n",
              "1  13/12/2020  ...                                           7.052776         \n",
              "2  12/12/2020  ...                                           6.868768         \n",
              "3  11/12/2020  ...                                           7.134266         \n",
              "4  10/12/2020  ...                                           6.968658         \n",
              "5  09/12/2020  ...                                           6.963401         \n",
              "6  08/12/2020  ...                                           7.094835         \n",
              "7  07/12/2020  ...                                           7.215755         \n",
              "8  06/12/2020  ...                                           7.326160         \n",
              "9  05/12/2020  ...                                           7.115865         \n",
              "\n",
              "[10 rows x 12 columns]"
            ]
          },
          "metadata": {
            "tags": []
          },
          "execution_count": 3
        }
      ]
    },
    {
      "cell_type": "code",
      "metadata": {
        "colab": {
          "base_uri": "https://localhost:8080/",
          "height": 179
        },
        "id": "puavNZhEdygG",
        "outputId": "9718b60d-81c2-4646-caee-a0174e88ad8e"
      },
      "source": [
        "df.tail(3)"
      ],
      "execution_count": null,
      "outputs": [
        {
          "output_type": "execute_result",
          "data": {
            "text/html": [
              "<div>\n",
              "<style scoped>\n",
              "    .dataframe tbody tr th:only-of-type {\n",
              "        vertical-align: middle;\n",
              "    }\n",
              "\n",
              "    .dataframe tbody tr th {\n",
              "        vertical-align: top;\n",
              "    }\n",
              "\n",
              "    .dataframe thead th {\n",
              "        text-align: right;\n",
              "    }\n",
              "</style>\n",
              "<table border=\"1\" class=\"dataframe\">\n",
              "  <thead>\n",
              "    <tr style=\"text-align: right;\">\n",
              "      <th></th>\n",
              "      <th>dateRep</th>\n",
              "      <th>day</th>\n",
              "      <th>month</th>\n",
              "      <th>year</th>\n",
              "      <th>cases</th>\n",
              "      <th>deaths</th>\n",
              "      <th>countriesAndTerritories</th>\n",
              "      <th>geoId</th>\n",
              "      <th>countryterritoryCode</th>\n",
              "      <th>popData2019</th>\n",
              "      <th>continentExp</th>\n",
              "      <th>Cumulative_number_for_14_days_of_COVID-19_cases_per_100000</th>\n",
              "    </tr>\n",
              "  </thead>\n",
              "  <tbody>\n",
              "    <tr>\n",
              "      <th>61897</th>\n",
              "      <td>23/03/2020</td>\n",
              "      <td>23</td>\n",
              "      <td>3</td>\n",
              "      <td>2020</td>\n",
              "      <td>0</td>\n",
              "      <td>0</td>\n",
              "      <td>Zimbabwe</td>\n",
              "      <td>ZW</td>\n",
              "      <td>ZWE</td>\n",
              "      <td>14645473.0</td>\n",
              "      <td>Africa</td>\n",
              "      <td>NaN</td>\n",
              "    </tr>\n",
              "    <tr>\n",
              "      <th>61898</th>\n",
              "      <td>22/03/2020</td>\n",
              "      <td>22</td>\n",
              "      <td>3</td>\n",
              "      <td>2020</td>\n",
              "      <td>1</td>\n",
              "      <td>0</td>\n",
              "      <td>Zimbabwe</td>\n",
              "      <td>ZW</td>\n",
              "      <td>ZWE</td>\n",
              "      <td>14645473.0</td>\n",
              "      <td>Africa</td>\n",
              "      <td>NaN</td>\n",
              "    </tr>\n",
              "    <tr>\n",
              "      <th>61899</th>\n",
              "      <td>21/03/2020</td>\n",
              "      <td>21</td>\n",
              "      <td>3</td>\n",
              "      <td>2020</td>\n",
              "      <td>1</td>\n",
              "      <td>0</td>\n",
              "      <td>Zimbabwe</td>\n",
              "      <td>ZW</td>\n",
              "      <td>ZWE</td>\n",
              "      <td>14645473.0</td>\n",
              "      <td>Africa</td>\n",
              "      <td>NaN</td>\n",
              "    </tr>\n",
              "  </tbody>\n",
              "</table>\n",
              "</div>"
            ],
            "text/plain": [
              "          dateRep  ...  Cumulative_number_for_14_days_of_COVID-19_cases_per_100000\n",
              "61897  23/03/2020  ...                                                NaN         \n",
              "61898  22/03/2020  ...                                                NaN         \n",
              "61899  21/03/2020  ...                                                NaN         \n",
              "\n",
              "[3 rows x 12 columns]"
            ]
          },
          "metadata": {
            "tags": []
          },
          "execution_count": 4
        }
      ]
    },
    {
      "cell_type": "code",
      "metadata": {
        "id": "dJVjeITDehaH"
      },
      "source": [
        ""
      ],
      "execution_count": null,
      "outputs": []
    },
    {
      "cell_type": "code",
      "metadata": {
        "colab": {
          "base_uri": "https://localhost:8080/"
        },
        "id": "VRC4Bi4reppp",
        "outputId": "6beb4383-105e-4204-ba93-878daffc840a"
      },
      "source": [
        "df.count()"
      ],
      "execution_count": null,
      "outputs": [
        {
          "output_type": "execute_result",
          "data": {
            "text/plain": [
              "date           61900\n",
              "cases          61900\n",
              "deaths         61900\n",
              "country        61900\n",
              "countrycode    61777\n",
              "continent      61900\n",
              "dtype: int64"
            ]
          },
          "metadata": {
            "tags": []
          },
          "execution_count": 24
        }
      ]
    },
    {
      "cell_type": "code",
      "metadata": {
        "id": "pVxv1GF_d0ao"
      },
      "source": [
        "df=df[['dateRep','cases','deaths','countriesAndTerritories','countryterritoryCode','continentExp']]"
      ],
      "execution_count": null,
      "outputs": []
    },
    {
      "cell_type": "code",
      "metadata": {
        "colab": {
          "base_uri": "https://localhost:8080/",
          "height": 80
        },
        "id": "9FjjSr3veXxy",
        "outputId": "cda3ab5d-4d09-493e-ad98-84b0a518f365"
      },
      "source": [
        "df.sample()"
      ],
      "execution_count": null,
      "outputs": [
        {
          "output_type": "execute_result",
          "data": {
            "text/html": [
              "<div>\n",
              "<style scoped>\n",
              "    .dataframe tbody tr th:only-of-type {\n",
              "        vertical-align: middle;\n",
              "    }\n",
              "\n",
              "    .dataframe tbody tr th {\n",
              "        vertical-align: top;\n",
              "    }\n",
              "\n",
              "    .dataframe thead th {\n",
              "        text-align: right;\n",
              "    }\n",
              "</style>\n",
              "<table border=\"1\" class=\"dataframe\">\n",
              "  <thead>\n",
              "    <tr style=\"text-align: right;\">\n",
              "      <th></th>\n",
              "      <th>dateRep</th>\n",
              "      <th>cases</th>\n",
              "      <th>deaths</th>\n",
              "      <th>countriesAndTerritories</th>\n",
              "      <th>countryterritoryCode</th>\n",
              "      <th>continentExp</th>\n",
              "    </tr>\n",
              "  </thead>\n",
              "  <tbody>\n",
              "    <tr>\n",
              "      <th>10185</th>\n",
              "      <td>21/07/2020</td>\n",
              "      <td>0</td>\n",
              "      <td>0</td>\n",
              "      <td>Cameroon</td>\n",
              "      <td>CMR</td>\n",
              "      <td>Africa</td>\n",
              "    </tr>\n",
              "  </tbody>\n",
              "</table>\n",
              "</div>"
            ],
            "text/plain": [
              "          dateRep  cases  ...  countryterritoryCode continentExp\n",
              "10185  21/07/2020      0  ...                   CMR       Africa\n",
              "\n",
              "[1 rows x 6 columns]"
            ]
          },
          "metadata": {
            "tags": []
          },
          "execution_count": 6
        }
      ]
    },
    {
      "cell_type": "code",
      "metadata": {
        "id": "69nbQuxOezvc"
      },
      "source": [
        "#rename columns\n",
        "\n",
        "df=df.rename(columns={'dateRep':'date', 'countriesAndTerritories':'country','countryterritoryCode':'countrycode','continentExp':'continent'})"
      ],
      "execution_count": null,
      "outputs": []
    },
    {
      "cell_type": "code",
      "metadata": {
        "colab": {
          "base_uri": "https://localhost:8080/",
          "height": 359
        },
        "id": "XEEUPMPTreip",
        "outputId": "667ee916-6a11-4aac-ae2a-04cf2228fc3a"
      },
      "source": [
        "df.sample(10)"
      ],
      "execution_count": null,
      "outputs": [
        {
          "output_type": "execute_result",
          "data": {
            "text/html": [
              "<div>\n",
              "<style scoped>\n",
              "    .dataframe tbody tr th:only-of-type {\n",
              "        vertical-align: middle;\n",
              "    }\n",
              "\n",
              "    .dataframe tbody tr th {\n",
              "        vertical-align: top;\n",
              "    }\n",
              "\n",
              "    .dataframe thead th {\n",
              "        text-align: right;\n",
              "    }\n",
              "</style>\n",
              "<table border=\"1\" class=\"dataframe\">\n",
              "  <thead>\n",
              "    <tr style=\"text-align: right;\">\n",
              "      <th></th>\n",
              "      <th>date</th>\n",
              "      <th>cases</th>\n",
              "      <th>deaths</th>\n",
              "      <th>country</th>\n",
              "      <th>countrycode</th>\n",
              "      <th>continent</th>\n",
              "    </tr>\n",
              "  </thead>\n",
              "  <tbody>\n",
              "    <tr>\n",
              "      <th>37701</th>\n",
              "      <td>04/09/2020</td>\n",
              "      <td>1</td>\n",
              "      <td>0</td>\n",
              "      <td>Monaco</td>\n",
              "      <td>MCO</td>\n",
              "      <td>Europe</td>\n",
              "    </tr>\n",
              "    <tr>\n",
              "      <th>61786</th>\n",
              "      <td>12/07/2020</td>\n",
              "      <td>40</td>\n",
              "      <td>5</td>\n",
              "      <td>Zimbabwe</td>\n",
              "      <td>ZWE</td>\n",
              "      <td>Africa</td>\n",
              "    </tr>\n",
              "    <tr>\n",
              "      <th>11485</th>\n",
              "      <td>12/05/2020</td>\n",
              "      <td>0</td>\n",
              "      <td>0</td>\n",
              "      <td>Central_African_Republic</td>\n",
              "      <td>CAF</td>\n",
              "      <td>Africa</td>\n",
              "    </tr>\n",
              "    <tr>\n",
              "      <th>52527</th>\n",
              "      <td>18/10/2020</td>\n",
              "      <td>0</td>\n",
              "      <td>0</td>\n",
              "      <td>South_Sudan</td>\n",
              "      <td>SSD</td>\n",
              "      <td>Africa</td>\n",
              "    </tr>\n",
              "    <tr>\n",
              "      <th>33123</th>\n",
              "      <td>06/07/2020</td>\n",
              "      <td>44</td>\n",
              "      <td>0</td>\n",
              "      <td>Lesotho</td>\n",
              "      <td>LSO</td>\n",
              "      <td>Africa</td>\n",
              "    </tr>\n",
              "    <tr>\n",
              "      <th>32498</th>\n",
              "      <td>02/07/2020</td>\n",
              "      <td>3</td>\n",
              "      <td>0</td>\n",
              "      <td>Latvia</td>\n",
              "      <td>LVA</td>\n",
              "      <td>Europe</td>\n",
              "    </tr>\n",
              "    <tr>\n",
              "      <th>52523</th>\n",
              "      <td>22/10/2020</td>\n",
              "      <td>23</td>\n",
              "      <td>0</td>\n",
              "      <td>South_Sudan</td>\n",
              "      <td>SSD</td>\n",
              "      <td>Africa</td>\n",
              "    </tr>\n",
              "    <tr>\n",
              "      <th>19063</th>\n",
              "      <td>06/08/2020</td>\n",
              "      <td>459</td>\n",
              "      <td>13</td>\n",
              "      <td>Ethiopia</td>\n",
              "      <td>ETH</td>\n",
              "      <td>Africa</td>\n",
              "    </tr>\n",
              "    <tr>\n",
              "      <th>31986</th>\n",
              "      <td>08/06/2020</td>\n",
              "      <td>25</td>\n",
              "      <td>1</td>\n",
              "      <td>Kyrgyzstan</td>\n",
              "      <td>KGZ</td>\n",
              "      <td>Asia</td>\n",
              "    </tr>\n",
              "    <tr>\n",
              "      <th>1048</th>\n",
              "      <td>23/09/2020</td>\n",
              "      <td>0</td>\n",
              "      <td>0</td>\n",
              "      <td>Andorra</td>\n",
              "      <td>AND</td>\n",
              "      <td>Europe</td>\n",
              "    </tr>\n",
              "  </tbody>\n",
              "</table>\n",
              "</div>"
            ],
            "text/plain": [
              "             date  cases  ...  countrycode continent\n",
              "37701  04/09/2020      1  ...          MCO    Europe\n",
              "61786  12/07/2020     40  ...          ZWE    Africa\n",
              "11485  12/05/2020      0  ...          CAF    Africa\n",
              "52527  18/10/2020      0  ...          SSD    Africa\n",
              "33123  06/07/2020     44  ...          LSO    Africa\n",
              "32498  02/07/2020      3  ...          LVA    Europe\n",
              "52523  22/10/2020     23  ...          SSD    Africa\n",
              "19063  06/08/2020    459  ...          ETH    Africa\n",
              "31986  08/06/2020     25  ...          KGZ      Asia\n",
              "1048   23/09/2020      0  ...          AND    Europe\n",
              "\n",
              "[10 rows x 6 columns]"
            ]
          },
          "metadata": {
            "tags": []
          },
          "execution_count": 8
        }
      ]
    },
    {
      "cell_type": "code",
      "metadata": {
        "id": "f98iGo6hrgg_"
      },
      "source": [
        "#convert 'date' to date format\n",
        "\n",
        "df['date']=pd.to_datetime(df['date'],format='%d/%m/%Y')"
      ],
      "execution_count": null,
      "outputs": []
    },
    {
      "cell_type": "code",
      "metadata": {
        "colab": {
          "base_uri": "https://localhost:8080/",
          "height": 359
        },
        "id": "iO5dqs2XsPw5",
        "outputId": "6e14ca7b-f9a5-43ac-9210-7b2b5df86ae7"
      },
      "source": [
        "df.sample(10)"
      ],
      "execution_count": null,
      "outputs": [
        {
          "output_type": "execute_result",
          "data": {
            "text/html": [
              "<div>\n",
              "<style scoped>\n",
              "    .dataframe tbody tr th:only-of-type {\n",
              "        vertical-align: middle;\n",
              "    }\n",
              "\n",
              "    .dataframe tbody tr th {\n",
              "        vertical-align: top;\n",
              "    }\n",
              "\n",
              "    .dataframe thead th {\n",
              "        text-align: right;\n",
              "    }\n",
              "</style>\n",
              "<table border=\"1\" class=\"dataframe\">\n",
              "  <thead>\n",
              "    <tr style=\"text-align: right;\">\n",
              "      <th></th>\n",
              "      <th>date</th>\n",
              "      <th>cases</th>\n",
              "      <th>deaths</th>\n",
              "      <th>country</th>\n",
              "      <th>countrycode</th>\n",
              "      <th>continent</th>\n",
              "    </tr>\n",
              "  </thead>\n",
              "  <tbody>\n",
              "    <tr>\n",
              "      <th>14655</th>\n",
              "      <td>2020-04-11</td>\n",
              "      <td>0</td>\n",
              "      <td>0</td>\n",
              "      <td>Curaçao</td>\n",
              "      <td>CUW</td>\n",
              "      <td>America</td>\n",
              "    </tr>\n",
              "    <tr>\n",
              "      <th>56280</th>\n",
              "      <td>2020-07-02</td>\n",
              "      <td>11</td>\n",
              "      <td>0</td>\n",
              "      <td>Togo</td>\n",
              "      <td>TGO</td>\n",
              "      <td>Africa</td>\n",
              "    </tr>\n",
              "    <tr>\n",
              "      <th>60380</th>\n",
              "      <td>2020-06-15</td>\n",
              "      <td>74</td>\n",
              "      <td>1</td>\n",
              "      <td>Venezuela</td>\n",
              "      <td>VEN</td>\n",
              "      <td>America</td>\n",
              "    </tr>\n",
              "    <tr>\n",
              "      <th>50266</th>\n",
              "      <td>2020-05-29</td>\n",
              "      <td>30</td>\n",
              "      <td>0</td>\n",
              "      <td>Sierra_Leone</td>\n",
              "      <td>SLE</td>\n",
              "      <td>Africa</td>\n",
              "    </tr>\n",
              "    <tr>\n",
              "      <th>29074</th>\n",
              "      <td>2020-01-24</td>\n",
              "      <td>0</td>\n",
              "      <td>0</td>\n",
              "      <td>Israel</td>\n",
              "      <td>ISR</td>\n",
              "      <td>Asia</td>\n",
              "    </tr>\n",
              "    <tr>\n",
              "      <th>42706</th>\n",
              "      <td>2020-09-16</td>\n",
              "      <td>122</td>\n",
              "      <td>0</td>\n",
              "      <td>Norway</td>\n",
              "      <td>NOR</td>\n",
              "      <td>Europe</td>\n",
              "    </tr>\n",
              "    <tr>\n",
              "      <th>11196</th>\n",
              "      <td>2020-05-31</td>\n",
              "      <td>0</td>\n",
              "      <td>0</td>\n",
              "      <td>Cayman_Islands</td>\n",
              "      <td>CYM</td>\n",
              "      <td>America</td>\n",
              "    </tr>\n",
              "    <tr>\n",
              "      <th>4076</th>\n",
              "      <td>2020-09-06</td>\n",
              "      <td>90</td>\n",
              "      <td>5</td>\n",
              "      <td>Bahamas</td>\n",
              "      <td>BHS</td>\n",
              "      <td>America</td>\n",
              "    </tr>\n",
              "    <tr>\n",
              "      <th>9804</th>\n",
              "      <td>2020-08-30</td>\n",
              "      <td>0</td>\n",
              "      <td>0</td>\n",
              "      <td>Cambodia</td>\n",
              "      <td>KHM</td>\n",
              "      <td>Asia</td>\n",
              "    </tr>\n",
              "    <tr>\n",
              "      <th>21680</th>\n",
              "      <td>2020-07-20</td>\n",
              "      <td>0</td>\n",
              "      <td>0</td>\n",
              "      <td>Georgia</td>\n",
              "      <td>GEO</td>\n",
              "      <td>Europe</td>\n",
              "    </tr>\n",
              "  </tbody>\n",
              "</table>\n",
              "</div>"
            ],
            "text/plain": [
              "            date  cases  deaths         country countrycode continent\n",
              "14655 2020-04-11      0       0         Curaçao         CUW   America\n",
              "56280 2020-07-02     11       0            Togo         TGO    Africa\n",
              "60380 2020-06-15     74       1       Venezuela         VEN   America\n",
              "50266 2020-05-29     30       0    Sierra_Leone         SLE    Africa\n",
              "29074 2020-01-24      0       0          Israel         ISR      Asia\n",
              "42706 2020-09-16    122       0          Norway         NOR    Europe\n",
              "11196 2020-05-31      0       0  Cayman_Islands         CYM   America\n",
              "4076  2020-09-06     90       5         Bahamas         BHS   America\n",
              "9804  2020-08-30      0       0        Cambodia         KHM      Asia\n",
              "21680 2020-07-20      0       0         Georgia         GEO    Europe"
            ]
          },
          "metadata": {
            "tags": []
          },
          "execution_count": 11
        }
      ]
    },
    {
      "cell_type": "code",
      "metadata": {
        "colab": {
          "base_uri": "https://localhost:8080/"
        },
        "id": "1uqMif_OsWfx",
        "outputId": "fbf4327b-024c-404c-97de-445e104c88e2"
      },
      "source": [
        "#from datetime import datetime\n",
        "#today=datetime.now().strftime('%Y-%m-%d')\n",
        "#print(today)"
      ],
      "execution_count": null,
      "outputs": [
        {
          "output_type": "stream",
          "text": [
            "2021-05-06\n"
          ],
          "name": "stdout"
        }
      ]
    },
    {
      "cell_type": "code",
      "metadata": {
        "id": "StSmh-xEzjOJ"
      },
      "source": [
        "#df_today=df[df.date==today]"
      ],
      "execution_count": null,
      "outputs": []
    },
    {
      "cell_type": "code",
      "metadata": {
        "colab": {
          "base_uri": "https://localhost:8080/"
        },
        "id": "0Vao0NFN0uBO",
        "outputId": "b4e50167-6c44-4008-d0d0-0909e4a2385d"
      },
      "source": [
        "#df_today.count()"
      ],
      "execution_count": null,
      "outputs": [
        {
          "output_type": "execute_result",
          "data": {
            "text/plain": [
              "date           0\n",
              "cases          0\n",
              "deaths         0\n",
              "country        0\n",
              "countrycode    0\n",
              "continent      0\n",
              "dtype: int64"
            ]
          },
          "metadata": {
            "tags": []
          },
          "execution_count": 23
        }
      ]
    },
    {
      "cell_type": "code",
      "metadata": {
        "colab": {
          "base_uri": "https://localhost:8080/"
        },
        "id": "d__DL6ob00QZ",
        "outputId": "a82ba4ac-7f79-4cd7-affe-c5252081e5c7"
      },
      "source": [
        "#df['date'].max()"
      ],
      "execution_count": null,
      "outputs": [
        {
          "output_type": "execute_result",
          "data": {
            "text/plain": [
              "Timestamp('2020-12-14 00:00:00')"
            ]
          },
          "metadata": {
            "tags": []
          },
          "execution_count": 25
        }
      ]
    },
    {
      "cell_type": "code",
      "metadata": {
        "id": "xOA64i541oxB"
      },
      "source": [
        "#Lets create the bubble Map for '2020-12-14'\n",
        "date='2020-12-14'\n",
        "df_today=df[df.date==date]"
      ],
      "execution_count": null,
      "outputs": []
    },
    {
      "cell_type": "code",
      "metadata": {
        "colab": {
          "base_uri": "https://localhost:8080/"
        },
        "id": "QIai33C22bVd",
        "outputId": "75999f5b-c25b-4318-96e9-81b11abccb74"
      },
      "source": [
        "df_today.count()"
      ],
      "execution_count": null,
      "outputs": [
        {
          "output_type": "execute_result",
          "data": {
            "text/plain": [
              "date           212\n",
              "cases          212\n",
              "deaths         212\n",
              "country        212\n",
              "countrycode    211\n",
              "continent      212\n",
              "dtype: int64"
            ]
          },
          "metadata": {
            "tags": []
          },
          "execution_count": 28
        }
      ]
    },
    {
      "cell_type": "code",
      "metadata": {
        "colab": {
          "base_uri": "https://localhost:8080/",
          "height": 359
        },
        "id": "O5iH1bPb2hH5",
        "outputId": "57b2b097-5eba-400d-cd93-ca1acf072e82"
      },
      "source": [
        "df_today.head(10)"
      ],
      "execution_count": null,
      "outputs": [
        {
          "output_type": "execute_result",
          "data": {
            "text/html": [
              "<div>\n",
              "<style scoped>\n",
              "    .dataframe tbody tr th:only-of-type {\n",
              "        vertical-align: middle;\n",
              "    }\n",
              "\n",
              "    .dataframe tbody tr th {\n",
              "        vertical-align: top;\n",
              "    }\n",
              "\n",
              "    .dataframe thead th {\n",
              "        text-align: right;\n",
              "    }\n",
              "</style>\n",
              "<table border=\"1\" class=\"dataframe\">\n",
              "  <thead>\n",
              "    <tr style=\"text-align: right;\">\n",
              "      <th></th>\n",
              "      <th>date</th>\n",
              "      <th>cases</th>\n",
              "      <th>deaths</th>\n",
              "      <th>country</th>\n",
              "      <th>countrycode</th>\n",
              "      <th>continent</th>\n",
              "    </tr>\n",
              "  </thead>\n",
              "  <tbody>\n",
              "    <tr>\n",
              "      <th>0</th>\n",
              "      <td>2020-12-14</td>\n",
              "      <td>746</td>\n",
              "      <td>6</td>\n",
              "      <td>Afghanistan</td>\n",
              "      <td>AFG</td>\n",
              "      <td>Asia</td>\n",
              "    </tr>\n",
              "    <tr>\n",
              "      <th>340</th>\n",
              "      <td>2020-12-14</td>\n",
              "      <td>788</td>\n",
              "      <td>14</td>\n",
              "      <td>Albania</td>\n",
              "      <td>ALB</td>\n",
              "      <td>Europe</td>\n",
              "    </tr>\n",
              "    <tr>\n",
              "      <th>621</th>\n",
              "      <td>2020-12-14</td>\n",
              "      <td>464</td>\n",
              "      <td>12</td>\n",
              "      <td>Algeria</td>\n",
              "      <td>DZA</td>\n",
              "      <td>Africa</td>\n",
              "    </tr>\n",
              "    <tr>\n",
              "      <th>966</th>\n",
              "      <td>2020-12-14</td>\n",
              "      <td>50</td>\n",
              "      <td>1</td>\n",
              "      <td>Andorra</td>\n",
              "      <td>AND</td>\n",
              "      <td>Europe</td>\n",
              "    </tr>\n",
              "    <tr>\n",
              "      <th>1242</th>\n",
              "      <td>2020-12-14</td>\n",
              "      <td>27</td>\n",
              "      <td>5</td>\n",
              "      <td>Angola</td>\n",
              "      <td>AGO</td>\n",
              "      <td>Africa</td>\n",
              "    </tr>\n",
              "    <tr>\n",
              "      <th>1510</th>\n",
              "      <td>2020-12-14</td>\n",
              "      <td>0</td>\n",
              "      <td>0</td>\n",
              "      <td>Anguilla</td>\n",
              "      <td>AIA</td>\n",
              "      <td>America</td>\n",
              "    </tr>\n",
              "    <tr>\n",
              "      <th>1773</th>\n",
              "      <td>2020-12-14</td>\n",
              "      <td>0</td>\n",
              "      <td>0</td>\n",
              "      <td>Antigua_and_Barbuda</td>\n",
              "      <td>ATG</td>\n",
              "      <td>America</td>\n",
              "    </tr>\n",
              "    <tr>\n",
              "      <th>2043</th>\n",
              "      <td>2020-12-14</td>\n",
              "      <td>3558</td>\n",
              "      <td>98</td>\n",
              "      <td>Argentina</td>\n",
              "      <td>ARG</td>\n",
              "      <td>America</td>\n",
              "    </tr>\n",
              "    <tr>\n",
              "      <th>2326</th>\n",
              "      <td>2020-12-14</td>\n",
              "      <td>357</td>\n",
              "      <td>17</td>\n",
              "      <td>Armenia</td>\n",
              "      <td>ARM</td>\n",
              "      <td>Europe</td>\n",
              "    </tr>\n",
              "    <tr>\n",
              "      <th>2667</th>\n",
              "      <td>2020-12-14</td>\n",
              "      <td>5</td>\n",
              "      <td>0</td>\n",
              "      <td>Aruba</td>\n",
              "      <td>ABW</td>\n",
              "      <td>America</td>\n",
              "    </tr>\n",
              "  </tbody>\n",
              "</table>\n",
              "</div>"
            ],
            "text/plain": [
              "           date  cases  deaths              country countrycode continent\n",
              "0    2020-12-14    746       6          Afghanistan         AFG      Asia\n",
              "340  2020-12-14    788      14              Albania         ALB    Europe\n",
              "621  2020-12-14    464      12              Algeria         DZA    Africa\n",
              "966  2020-12-14     50       1              Andorra         AND    Europe\n",
              "1242 2020-12-14     27       5               Angola         AGO    Africa\n",
              "1510 2020-12-14      0       0             Anguilla         AIA   America\n",
              "1773 2020-12-14      0       0  Antigua_and_Barbuda         ATG   America\n",
              "2043 2020-12-14   3558      98            Argentina         ARG   America\n",
              "2326 2020-12-14    357      17              Armenia         ARM    Europe\n",
              "2667 2020-12-14      5       0                Aruba         ABW   America"
            ]
          },
          "metadata": {
            "tags": []
          },
          "execution_count": 30
        }
      ]
    },
    {
      "cell_type": "code",
      "metadata": {
        "id": "Eg4XtuYf2o9S"
      },
      "source": [
        "import plotly.express as px\n",
        "\n",
        "fig=px.scatter_geo(df_today,\n",
        "                   locations='countrycode',\n",
        "                   color='continent',\n",
        "                   hover_name='country',\n",
        "                   size='cases',\n",
        "                   projection='natural earth',\n",
        "                   title=f'World Covid-19 cases on 14th dec 2020'\n",
        "\n",
        "                   )\n"
      ],
      "execution_count": null,
      "outputs": []
    },
    {
      "cell_type": "code",
      "metadata": {
        "colab": {
          "base_uri": "https://localhost:8080/",
          "height": 542
        },
        "id": "3TRQZPy736lG",
        "outputId": "e0ae36be-9b9a-44dc-d2a8-fc32e4ebb880"
      },
      "source": [
        "fig.show()"
      ],
      "execution_count": null,
      "outputs": [
        {
          "output_type": "display_data",
          "data": {
            "text/html": [
              "<html>\n",
              "<head><meta charset=\"utf-8\" /></head>\n",
              "<body>\n",
              "    <div>\n",
              "            <script src=\"https://cdnjs.cloudflare.com/ajax/libs/mathjax/2.7.5/MathJax.js?config=TeX-AMS-MML_SVG\"></script><script type=\"text/javascript\">if (window.MathJax) {MathJax.Hub.Config({SVG: {font: \"STIX-Web\"}});}</script>\n",
              "                <script type=\"text/javascript\">window.PlotlyConfig = {MathJaxConfig: 'local'};</script>\n",
              "        <script src=\"https://cdn.plot.ly/plotly-latest.min.js\"></script>    \n",
              "            <div id=\"79690451-6ca1-4caa-abda-2d54a1a19e15\" class=\"plotly-graph-div\" style=\"height:525px; width:100%;\"></div>\n",
              "            <script type=\"text/javascript\">\n",
              "                \n",
              "                    window.PLOTLYENV=window.PLOTLYENV || {};\n",
              "                    \n",
              "                if (document.getElementById(\"79690451-6ca1-4caa-abda-2d54a1a19e15\")) {\n",
              "                    Plotly.newPlot(\n",
              "                        '79690451-6ca1-4caa-abda-2d54a1a19e15',\n",
              "                        [{\"geo\": \"geo\", \"hoverlabel\": {\"namelength\": 0}, \"hovertemplate\": \"<b>%{hovertext}</b><br><br>continent=Asia<br>cases=%{marker.size}<br>countrycode=%{location}\", \"hovertext\": [\"Afghanistan\", \"Bahrain\", \"Bangladesh\", \"Bhutan\", \"Brunei_Darussalam\", \"Cambodia\", \"China\", \"India\", \"Indonesia\", \"Iran\", \"Iraq\", \"Israel\", \"Japan\", \"Jordan\", \"Kazakhstan\", \"Kuwait\", \"Kyrgyzstan\", \"Laos\", \"Lebanon\", \"Malaysia\", \"Maldives\", \"Mongolia\", \"Myanmar\", \"Nepal\", \"Oman\", \"Pakistan\", \"Palestine\", \"Philippines\", \"Qatar\", \"Saudi_Arabia\", \"Singapore\", \"South_Korea\", \"Sri_Lanka\", \"Syria\", \"Taiwan\", \"Tajikistan\", \"Thailand\", \"Timor_Leste\", \"United_Arab_Emirates\", \"Uzbekistan\", \"Vietnam\", \"Yemen\"], \"legendgroup\": \"continent=Asia\", \"locations\": [\"AFG\", \"BHR\", \"BGD\", \"BTN\", \"BRN\", \"KHM\", \"CHN\", \"IND\", \"IDN\", \"IRN\", \"IRQ\", \"ISR\", \"JPN\", \"JOR\", \"KAZ\", \"KWT\", \"KGZ\", \"LAO\", \"LBN\", \"MYS\", \"MDV\", \"MNG\", \"MMR\", \"NPL\", \"OMN\", \"PAK\", \"PSE\", \"PHL\", \"QAT\", \"SAU\", \"SGP\", \"KOR\", \"LKA\", \"SYR\", \"CNG1925\", \"TJK\", \"THA\", \"TLS\", \"ARE\", \"UZB\", \"VNM\", \"YEM\"], \"marker\": {\"color\": \"#636efa\", \"size\": [746, 178, 1355, 1, 0, 0, 12, 27071, 6189, 7451, 1012, 1844, 2366, 2339, 764, 174, 318, 0, 1275, 1229, 20, 5, 1127, 830, 571, 2362, 1639, 1069, 0, 139, 7, 718, 655, 125, 4, 38, 28, 0, 1194, 138, 2, 0], \"sizemode\": \"area\", \"sizeref\": 474.3075}, \"name\": \"continent=Asia\", \"showlegend\": true, \"type\": \"scattergeo\"}, {\"geo\": \"geo\", \"hoverlabel\": {\"namelength\": 0}, \"hovertemplate\": \"<b>%{hovertext}</b><br><br>continent=Europe<br>cases=%{marker.size}<br>countrycode=%{location}\", \"hovertext\": [\"Albania\", \"Andorra\", \"Armenia\", \"Austria\", \"Azerbaijan\", \"Belarus\", \"Belgium\", \"Bosnia_and_Herzegovina\", \"Bulgaria\", \"Croatia\", \"Cyprus\", \"Czechia\", \"Denmark\", \"Estonia\", \"Faroe_Islands\", \"Finland\", \"France\", \"Georgia\", \"Germany\", \"Gibraltar\", \"Greece\", \"Guernsey\", \"Holy_See\", \"Hungary\", \"Iceland\", \"Ireland\", \"Isle_of_Man\", \"Italy\", \"Jersey\", \"Kosovo\", \"Latvia\", \"Liechtenstein\", \"Lithuania\", \"Luxembourg\", \"Malta\", \"Moldova\", \"Monaco\", \"Montenegro\", \"Netherlands\", \"North_Macedonia\", \"Norway\", \"Poland\", \"Portugal\", \"Romania\", \"Russia\", \"San_Marino\", \"Serbia\", \"Slovakia\", \"Slovenia\", \"Sweden\", \"Switzerland\", \"Turkey\", \"Ukraine\", \"United_Kingdom\"], \"legendgroup\": \"continent=Europe\", \"locations\": [\"ALB\", \"AND\", \"ARM\", \"AUT\", \"AZE\", \"BLR\", \"BEL\", \"BIH\", \"BGR\", \"HRV\", \"CYP\", \"CZE\", \"DNK\", \"EST\", \"FRO\", \"FIN\", \"FRA\", \"GEO\", \"DEU\", \"GIB\", \"GRC\", \"GGY\", \"VAT\", \"HUN\", \"ISL\", \"IRL\", \"IMN\", \"ITA\", \"JEY\", \"XKX\", \"LVA\", \"LIE\", \"LTU\", \"LUX\", \"MLT\", \"MDA\", \"MCO\", \"MNE\", \"NLD\", \"MKD\", \"NOR\", \"POL\", \"PRT\", \"ROU\", \"RUS\", \"SMR\", \"SRB\", \"SVK\", \"SVN\", \"SWE\", \"CHE\", \"TUR\", \"UKR\", \"GBR\"], \"marker\": {\"color\": \"#EF553B\", \"size\": [788, 50, 357, 3005, 4451, 1961, 2, 811, 497, 3363, 301, 2000, 2642, 342, 3, 360, 11533, 1337, 16362, 3, 692, 0, 0, 3470, 5, 429, 0, 17937, 91, 462, 629, 12, 1920, 517, 0, 795, 0, 478, 9868, 613, 0, 8976, 4044, 4435, 28080, 15, 4995, 5897, 833, 0, 0, 29136, 15627, 18447], \"sizemode\": \"area\", \"sizeref\": 474.3075}, \"name\": \"continent=Europe\", \"showlegend\": true, \"type\": \"scattergeo\"}, {\"geo\": \"geo\", \"hoverlabel\": {\"namelength\": 0}, \"hovertemplate\": \"<b>%{hovertext}</b><br><br>continent=Africa<br>cases=%{marker.size}<br>countrycode=%{location}\", \"hovertext\": [\"Algeria\", \"Angola\", \"Benin\", \"Botswana\", \"Burkina_Faso\", \"Burundi\", \"Cameroon\", \"Cape_Verde\", \"Central_African_Republic\", \"Chad\", \"Comoros\", \"Congo\", \"Cote_dIvoire\", \"Democratic_Republic_of_the_Congo\", \"Djibouti\", \"Egypt\", \"Equatorial_Guinea\", \"Eritrea\", \"Eswatini\", \"Ethiopia\", \"Gabon\", \"Gambia\", \"Ghana\", \"Guinea\", \"Guinea_Bissau\", \"Kenya\", \"Lesotho\", \"Liberia\", \"Libya\", \"Madagascar\", \"Malawi\", \"Mali\", \"Mauritania\", \"Mauritius\", \"Morocco\", \"Mozambique\", \"Namibia\", \"Niger\", \"Nigeria\", \"Rwanda\", \"Sao_Tome_and_Principe\", \"Senegal\", \"Seychelles\", \"Sierra_Leone\", \"Somalia\", \"South_Africa\", \"South_Sudan\", \"Sudan\", \"Togo\", \"Tunisia\", \"Uganda\", \"United_Republic_of_Tanzania\", \"Western_Sahara\", \"Zambia\", \"Zimbabwe\"], \"legendgroup\": \"continent=Africa\", \"locations\": [\"DZA\", \"AGO\", \"BEN\", \"BWA\", \"BFA\", \"BDI\", \"CMR\", \"CPV\", \"CAF\", \"TCD\", \"COM\", \"COG\", \"CIV\", \"COD\", \"DJI\", \"EGY\", \"GNQ\", \"ERI\", \"SWZ\", \"ETH\", \"GAB\", \"GMB\", \"GHA\", \"GIN\", \"GNB\", \"KEN\", \"LSO\", \"LBR\", \"LBY\", \"MDG\", \"MWI\", \"MLI\", \"MRT\", \"MUS\", \"MAR\", \"MOZ\", \"NAM\", \"NER\", \"NGA\", \"RWA\", \"STP\", \"SEN\", \"SYC\", \"SLE\", \"SOM\", \"ZAF\", \"SSD\", \"SDN\", \"TGO\", \"TUN\", \"UGA\", \"TZA\", \"ESH\", \"ZMB\", \"ZWE\"], \"marker\": {\"color\": \"#00cc96\", \"size\": [464, 27, 0, 0, 136, 1, 0, 55, 0, 19, 0, 0, 41, 52, 3, 486, 0, 0, 54, 472, 0, 2, 81, 0, 0, 366, 0, 0, 899, 0, 3, 93, 0, 0, 2012, 142, 267, 59, 418, 131, 0, 78, 0, 0, 0, 7999, 0, 239, 30, 968, 461, 0, 0, 57, 27], \"sizemode\": \"area\", \"sizeref\": 474.3075}, \"name\": \"continent=Africa\", \"showlegend\": true, \"type\": \"scattergeo\"}, {\"geo\": \"geo\", \"hoverlabel\": {\"namelength\": 0}, \"hovertemplate\": \"<b>%{hovertext}</b><br><br>continent=America<br>cases=%{marker.size}<br>countrycode=%{location}\", \"hovertext\": [\"Anguilla\", \"Antigua_and_Barbuda\", \"Argentina\", \"Aruba\", \"Bahamas\", \"Barbados\", \"Belize\", \"Bermuda\", \"Bolivia\", \"Bonaire, Saint Eustatius and Saba\", \"Brazil\", \"British_Virgin_Islands\", \"Canada\", \"Cayman_Islands\", \"Chile\", \"Colombia\", \"Costa_Rica\", \"Cuba\", \"Cura\\u00e7ao\", \"Dominica\", \"Dominican_Republic\", \"Ecuador\", \"El_Salvador\", \"Falkland_Islands_(Malvinas)\", \"Greenland\", \"Grenada\", \"Guatemala\", \"Guyana\", \"Haiti\", \"Honduras\", \"Jamaica\", \"Mexico\", \"Montserrat\", \"Nicaragua\", \"Panama\", \"Paraguay\", \"Peru\", \"Puerto_Rico\", \"Saint_Kitts_and_Nevis\", \"Saint_Lucia\", \"Saint_Vincent_and_the_Grenadines\", \"Sint_Maarten\", \"Suriname\", \"Trinidad_and_Tobago\", \"Turks_and_Caicos_islands\", \"United_States_of_America\", \"United_States_Virgin_Islands\", \"Uruguay\", \"Venezuela\"], \"legendgroup\": \"continent=America\", \"locations\": [\"AIA\", \"ATG\", \"ARG\", \"ABW\", \"BHS\", \"BRB\", \"BLZ\", \"BMU\", \"BOL\", \"BES\", \"BRA\", \"VGB\", \"CAN\", \"CYM\", \"CHL\", \"COL\", \"CRI\", \"CUB\", \"CUW\", \"DMA\", \"DOM\", \"ECU\", \"SLV\", \"FLK\", \"GRL\", \"GRD\", \"GTM\", \"GUY\", \"HTI\", \"HND\", \"JAM\", \"MEX\", \"MSF\", \"NIC\", \"PAN\", \"PRY\", \"PER\", \"PRI\", \"KNA\", \"LCA\", \"VCT\", \"SXM\", \"SUR\", \"TTO\", \"TCA\", \"USA\", \"VIR\", \"URY\", \"VEN\"], \"marker\": {\"color\": \"#ab63fa\", \"size\": [0, 0, 3558, 5, 15, 0, 122, 40, 120, 0, 21825, 0, 5891, 0, 2138, 8702, 0, 69, 48, 0, 1107, 586, 486, 0, 0, 26, 183, 41, 74, 316, 102, 8608, 0, 0, 2422, 669, 1928, 1104, 0, 1, 4, 0, 4, 15, 0, 189723, 0, 528, 462], \"sizemode\": \"area\", \"sizeref\": 474.3075}, \"name\": \"continent=America\", \"showlegend\": true, \"type\": \"scattergeo\"}, {\"geo\": \"geo\", \"hoverlabel\": {\"namelength\": 0}, \"hovertemplate\": \"<b>%{hovertext}</b><br><br>continent=Oceania<br>cases=%{marker.size}<br>countrycode=%{location}\", \"hovertext\": [\"Australia\", \"Fiji\", \"French_Polynesia\", \"Guam\", \"Marshall_Islands\", \"New_Caledonia\", \"New_Zealand\", \"Northern_Mariana_Islands\", \"Papua_New_Guinea\", \"Solomon_Islands\", \"Vanuatu\", \"Wallis_and_Futuna\"], \"legendgroup\": \"continent=Oceania\", \"locations\": [\"AUS\", \"FJI\", \"PYF\", \"GUM\", \"MHL\", \"NCL\", \"NZL\", \"MNP\", \"PNG\", \"SLB\", \"VUT\", null], \"marker\": {\"color\": \"#FFA15A\", \"size\": [6, 2, 0, 16, 0, 0, 0, 0, 5, 0, 0, 0], \"sizemode\": \"area\", \"sizeref\": 474.3075}, \"name\": \"continent=Oceania\", \"showlegend\": true, \"type\": \"scattergeo\"}],\n",
              "                        {\"geo\": {\"center\": {}, \"domain\": {\"x\": [0.0, 1.0], \"y\": [0.0, 1.0]}, \"projection\": {\"type\": \"natural earth\"}}, \"legend\": {\"itemsizing\": \"constant\", \"tracegroupgap\": 0}, \"template\": {\"data\": {\"bar\": [{\"error_x\": {\"color\": \"#2a3f5f\"}, \"error_y\": {\"color\": \"#2a3f5f\"}, \"marker\": {\"line\": {\"color\": \"#E5ECF6\", \"width\": 0.5}}, \"type\": \"bar\"}], \"barpolar\": [{\"marker\": {\"line\": {\"color\": \"#E5ECF6\", \"width\": 0.5}}, \"type\": \"barpolar\"}], \"carpet\": [{\"aaxis\": {\"endlinecolor\": \"#2a3f5f\", \"gridcolor\": \"white\", \"linecolor\": \"white\", \"minorgridcolor\": \"white\", \"startlinecolor\": \"#2a3f5f\"}, \"baxis\": {\"endlinecolor\": \"#2a3f5f\", \"gridcolor\": \"white\", \"linecolor\": \"white\", \"minorgridcolor\": \"white\", \"startlinecolor\": \"#2a3f5f\"}, \"type\": \"carpet\"}], \"choropleth\": [{\"colorbar\": {\"outlinewidth\": 0, \"ticks\": \"\"}, \"type\": \"choropleth\"}], \"contour\": [{\"colorbar\": {\"outlinewidth\": 0, \"ticks\": \"\"}, \"colorscale\": [[0.0, \"#0d0887\"], [0.1111111111111111, \"#46039f\"], [0.2222222222222222, \"#7201a8\"], [0.3333333333333333, \"#9c179e\"], [0.4444444444444444, \"#bd3786\"], [0.5555555555555556, \"#d8576b\"], [0.6666666666666666, \"#ed7953\"], [0.7777777777777778, \"#fb9f3a\"], [0.8888888888888888, \"#fdca26\"], [1.0, \"#f0f921\"]], \"type\": \"contour\"}], \"contourcarpet\": [{\"colorbar\": {\"outlinewidth\": 0, \"ticks\": \"\"}, \"type\": \"contourcarpet\"}], \"heatmap\": [{\"colorbar\": {\"outlinewidth\": 0, \"ticks\": \"\"}, \"colorscale\": [[0.0, \"#0d0887\"], [0.1111111111111111, \"#46039f\"], [0.2222222222222222, \"#7201a8\"], [0.3333333333333333, \"#9c179e\"], [0.4444444444444444, \"#bd3786\"], [0.5555555555555556, \"#d8576b\"], [0.6666666666666666, \"#ed7953\"], [0.7777777777777778, \"#fb9f3a\"], [0.8888888888888888, \"#fdca26\"], [1.0, \"#f0f921\"]], \"type\": \"heatmap\"}], \"heatmapgl\": [{\"colorbar\": {\"outlinewidth\": 0, \"ticks\": \"\"}, \"colorscale\": [[0.0, \"#0d0887\"], [0.1111111111111111, \"#46039f\"], [0.2222222222222222, \"#7201a8\"], [0.3333333333333333, \"#9c179e\"], [0.4444444444444444, \"#bd3786\"], [0.5555555555555556, \"#d8576b\"], [0.6666666666666666, \"#ed7953\"], [0.7777777777777778, \"#fb9f3a\"], [0.8888888888888888, \"#fdca26\"], [1.0, \"#f0f921\"]], \"type\": \"heatmapgl\"}], \"histogram\": [{\"marker\": {\"colorbar\": {\"outlinewidth\": 0, \"ticks\": \"\"}}, \"type\": \"histogram\"}], \"histogram2d\": [{\"colorbar\": {\"outlinewidth\": 0, \"ticks\": \"\"}, \"colorscale\": [[0.0, \"#0d0887\"], [0.1111111111111111, \"#46039f\"], [0.2222222222222222, \"#7201a8\"], [0.3333333333333333, \"#9c179e\"], [0.4444444444444444, \"#bd3786\"], [0.5555555555555556, \"#d8576b\"], [0.6666666666666666, \"#ed7953\"], [0.7777777777777778, \"#fb9f3a\"], [0.8888888888888888, \"#fdca26\"], [1.0, \"#f0f921\"]], \"type\": \"histogram2d\"}], \"histogram2dcontour\": [{\"colorbar\": {\"outlinewidth\": 0, \"ticks\": \"\"}, \"colorscale\": [[0.0, \"#0d0887\"], [0.1111111111111111, \"#46039f\"], [0.2222222222222222, \"#7201a8\"], [0.3333333333333333, \"#9c179e\"], [0.4444444444444444, \"#bd3786\"], [0.5555555555555556, \"#d8576b\"], [0.6666666666666666, \"#ed7953\"], [0.7777777777777778, \"#fb9f3a\"], [0.8888888888888888, \"#fdca26\"], [1.0, \"#f0f921\"]], \"type\": \"histogram2dcontour\"}], \"mesh3d\": [{\"colorbar\": {\"outlinewidth\": 0, \"ticks\": \"\"}, \"type\": \"mesh3d\"}], \"parcoords\": [{\"line\": {\"colorbar\": {\"outlinewidth\": 0, \"ticks\": \"\"}}, \"type\": \"parcoords\"}], \"pie\": [{\"automargin\": true, \"type\": \"pie\"}], \"scatter\": [{\"marker\": {\"colorbar\": {\"outlinewidth\": 0, \"ticks\": \"\"}}, \"type\": \"scatter\"}], \"scatter3d\": [{\"line\": {\"colorbar\": {\"outlinewidth\": 0, \"ticks\": \"\"}}, \"marker\": {\"colorbar\": {\"outlinewidth\": 0, \"ticks\": \"\"}}, \"type\": \"scatter3d\"}], \"scattercarpet\": [{\"marker\": {\"colorbar\": {\"outlinewidth\": 0, \"ticks\": \"\"}}, \"type\": \"scattercarpet\"}], \"scattergeo\": [{\"marker\": {\"colorbar\": {\"outlinewidth\": 0, \"ticks\": \"\"}}, \"type\": \"scattergeo\"}], \"scattergl\": [{\"marker\": {\"colorbar\": {\"outlinewidth\": 0, \"ticks\": \"\"}}, \"type\": \"scattergl\"}], \"scattermapbox\": [{\"marker\": {\"colorbar\": {\"outlinewidth\": 0, \"ticks\": \"\"}}, \"type\": \"scattermapbox\"}], \"scatterpolar\": [{\"marker\": {\"colorbar\": {\"outlinewidth\": 0, \"ticks\": \"\"}}, \"type\": \"scatterpolar\"}], \"scatterpolargl\": [{\"marker\": {\"colorbar\": {\"outlinewidth\": 0, \"ticks\": \"\"}}, \"type\": \"scatterpolargl\"}], \"scatterternary\": [{\"marker\": {\"colorbar\": {\"outlinewidth\": 0, \"ticks\": \"\"}}, \"type\": \"scatterternary\"}], \"surface\": [{\"colorbar\": {\"outlinewidth\": 0, \"ticks\": \"\"}, \"colorscale\": [[0.0, \"#0d0887\"], [0.1111111111111111, \"#46039f\"], [0.2222222222222222, \"#7201a8\"], [0.3333333333333333, \"#9c179e\"], [0.4444444444444444, \"#bd3786\"], [0.5555555555555556, \"#d8576b\"], [0.6666666666666666, \"#ed7953\"], [0.7777777777777778, \"#fb9f3a\"], [0.8888888888888888, \"#fdca26\"], [1.0, \"#f0f921\"]], \"type\": \"surface\"}], \"table\": [{\"cells\": {\"fill\": {\"color\": \"#EBF0F8\"}, \"line\": {\"color\": \"white\"}}, \"header\": {\"fill\": {\"color\": \"#C8D4E3\"}, \"line\": {\"color\": \"white\"}}, \"type\": \"table\"}]}, \"layout\": {\"annotationdefaults\": {\"arrowcolor\": \"#2a3f5f\", \"arrowhead\": 0, \"arrowwidth\": 1}, \"coloraxis\": {\"colorbar\": {\"outlinewidth\": 0, \"ticks\": \"\"}}, \"colorscale\": {\"diverging\": [[0, \"#8e0152\"], [0.1, \"#c51b7d\"], [0.2, \"#de77ae\"], [0.3, \"#f1b6da\"], [0.4, \"#fde0ef\"], [0.5, \"#f7f7f7\"], [0.6, \"#e6f5d0\"], [0.7, \"#b8e186\"], [0.8, \"#7fbc41\"], [0.9, \"#4d9221\"], [1, \"#276419\"]], \"sequential\": [[0.0, \"#0d0887\"], [0.1111111111111111, \"#46039f\"], [0.2222222222222222, \"#7201a8\"], [0.3333333333333333, \"#9c179e\"], [0.4444444444444444, \"#bd3786\"], [0.5555555555555556, \"#d8576b\"], [0.6666666666666666, \"#ed7953\"], [0.7777777777777778, \"#fb9f3a\"], [0.8888888888888888, \"#fdca26\"], [1.0, \"#f0f921\"]], \"sequentialminus\": [[0.0, \"#0d0887\"], [0.1111111111111111, \"#46039f\"], [0.2222222222222222, \"#7201a8\"], [0.3333333333333333, \"#9c179e\"], [0.4444444444444444, \"#bd3786\"], [0.5555555555555556, \"#d8576b\"], [0.6666666666666666, \"#ed7953\"], [0.7777777777777778, \"#fb9f3a\"], [0.8888888888888888, \"#fdca26\"], [1.0, \"#f0f921\"]]}, \"colorway\": [\"#636efa\", \"#EF553B\", \"#00cc96\", \"#ab63fa\", \"#FFA15A\", \"#19d3f3\", \"#FF6692\", \"#B6E880\", \"#FF97FF\", \"#FECB52\"], \"font\": {\"color\": \"#2a3f5f\"}, \"geo\": {\"bgcolor\": \"white\", \"lakecolor\": \"white\", \"landcolor\": \"#E5ECF6\", \"showlakes\": true, \"showland\": true, \"subunitcolor\": \"white\"}, \"hoverlabel\": {\"align\": \"left\"}, \"hovermode\": \"closest\", \"mapbox\": {\"style\": \"light\"}, \"paper_bgcolor\": \"white\", \"plot_bgcolor\": \"#E5ECF6\", \"polar\": {\"angularaxis\": {\"gridcolor\": \"white\", \"linecolor\": \"white\", \"ticks\": \"\"}, \"bgcolor\": \"#E5ECF6\", \"radialaxis\": {\"gridcolor\": \"white\", \"linecolor\": \"white\", \"ticks\": \"\"}}, \"scene\": {\"xaxis\": {\"backgroundcolor\": \"#E5ECF6\", \"gridcolor\": \"white\", \"gridwidth\": 2, \"linecolor\": \"white\", \"showbackground\": true, \"ticks\": \"\", \"zerolinecolor\": \"white\"}, \"yaxis\": {\"backgroundcolor\": \"#E5ECF6\", \"gridcolor\": \"white\", \"gridwidth\": 2, \"linecolor\": \"white\", \"showbackground\": true, \"ticks\": \"\", \"zerolinecolor\": \"white\"}, \"zaxis\": {\"backgroundcolor\": \"#E5ECF6\", \"gridcolor\": \"white\", \"gridwidth\": 2, \"linecolor\": \"white\", \"showbackground\": true, \"ticks\": \"\", \"zerolinecolor\": \"white\"}}, \"shapedefaults\": {\"line\": {\"color\": \"#2a3f5f\"}}, \"ternary\": {\"aaxis\": {\"gridcolor\": \"white\", \"linecolor\": \"white\", \"ticks\": \"\"}, \"baxis\": {\"gridcolor\": \"white\", \"linecolor\": \"white\", \"ticks\": \"\"}, \"bgcolor\": \"#E5ECF6\", \"caxis\": {\"gridcolor\": \"white\", \"linecolor\": \"white\", \"ticks\": \"\"}}, \"title\": {\"x\": 0.05}, \"xaxis\": {\"automargin\": true, \"gridcolor\": \"white\", \"linecolor\": \"white\", \"ticks\": \"\", \"title\": {\"standoff\": 15}, \"zerolinecolor\": \"white\", \"zerolinewidth\": 2}, \"yaxis\": {\"automargin\": true, \"gridcolor\": \"white\", \"linecolor\": \"white\", \"ticks\": \"\", \"title\": {\"standoff\": 15}, \"zerolinecolor\": \"white\", \"zerolinewidth\": 2}}}, \"title\": {\"text\": \"World Covid-19 cases on 14th dec 2020\"}},\n",
              "                        {\"responsive\": true}\n",
              "                    ).then(function(){\n",
              "                            \n",
              "var gd = document.getElementById('79690451-6ca1-4caa-abda-2d54a1a19e15');\n",
              "var x = new MutationObserver(function (mutations, observer) {{\n",
              "        var display = window.getComputedStyle(gd).display;\n",
              "        if (!display || display === 'none') {{\n",
              "            console.log([gd, 'removed!']);\n",
              "            Plotly.purge(gd);\n",
              "            observer.disconnect();\n",
              "        }}\n",
              "}});\n",
              "\n",
              "// Listen for the removal of the full notebook cells\n",
              "var notebookContainer = gd.closest('#notebook-container');\n",
              "if (notebookContainer) {{\n",
              "    x.observe(notebookContainer, {childList: true});\n",
              "}}\n",
              "\n",
              "// Listen for the clearing of the current output cell\n",
              "var outputEl = gd.closest('.output');\n",
              "if (outputEl) {{\n",
              "    x.observe(outputEl, {childList: true});\n",
              "}}\n",
              "\n",
              "                        })\n",
              "                };\n",
              "                \n",
              "            </script>\n",
              "        </div>\n",
              "</body>\n",
              "</html>"
            ]
          },
          "metadata": {
            "tags": []
          }
        }
      ]
    },
    {
      "cell_type": "code",
      "metadata": {
        "id": "FGmJIgGY4Fsd"
      },
      "source": [
        ""
      ],
      "execution_count": null,
      "outputs": []
    }
  ]
}